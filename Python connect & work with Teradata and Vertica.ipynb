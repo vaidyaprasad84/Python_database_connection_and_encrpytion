{
 "cells": [
  {
   "cell_type": "code",
   "execution_count": 1,
   "metadata": {},
   "outputs": [
    {
     "data": {
      "text/plain": [
       "'\\n\\nYou will need to upload the following packages\\n\\nNumpy\\nPandas\\nsqlalchemy\\nsqlalchemy-teradata\\nsqlalchemy-vertica-python\\nteradata\\nteradatasql\\nteradatasqlalchemy\\nvertica-python\\n\\n'"
      ]
     },
     "execution_count": 1,
     "metadata": {},
     "output_type": "execute_result"
    }
   ],
   "source": [
    "'''\n",
    "\n",
    "You will need to install the following packages\n",
    "\n",
    "Numpy\n",
    "Pandas\n",
    "sqlalchemy\n",
    "sqlalchemy-teradata\n",
    "sqlalchemy-vertica-python\n",
    "teradata\n",
    "teradatasql\n",
    "teradatasqlalchemy\n",
    "vertica-python\n",
    "\n",
    "'''"
   ]
  },
  {
   "cell_type": "code",
   "execution_count": 2,
   "metadata": {},
   "outputs": [],
   "source": [
    "# import all the relevant packages\n",
    "import sqlalchemy as sa\n",
    "import vertica_python as vp\n",
    "import pandas as pd"
   ]
  },
  {
   "cell_type": "code",
   "execution_count": 3,
   "metadata": {},
   "outputs": [],
   "source": [
    "# Teradata\n",
    "\n",
    "# Step I Create and connect engine\n",
    "\n",
    "username = 'user'\n",
    "password = 'password'\n",
    "\n",
    "td_driver = 'teradatasql'\n",
    "td_host = 'host'\n",
    "\n",
    "td_engine = '%s://%s:%s@%s'%(td_driver, username, password, td_host)\n",
    "\n",
    "td_conn = sa.create_engine(td_engine)\n",
    "\n",
    "\n",
    "# Step II Once engine is created and connected, extract data from existing tables. Use teradata sql\n",
    "\n",
    "### Teradata SQL\n",
    "td_sql_q = '''\n",
    "your teradata sql\n",
    "'''\n",
    "td_df = pd.read_sql(td_sql_q, td_conn)\n",
    "\n",
    "\n",
    "## Step III if you want to upload data in teradata from csv this is the logic\n",
    "\n",
    "from sqlalchemy.types import String\n",
    "\n",
    "file_path = 'path\\filname.csv'\n",
    "pdf = pd.read_csv(file_path)\n",
    "\n",
    "pdf.to_sql(name=table, con=td_conn, schema = 'schema', index=False, if_exists='replace', dtype={'col1': String})\n"
   ]
  },
  {
   "cell_type": "code",
   "execution_count": 5,
   "metadata": {},
   "outputs": [],
   "source": [
    "# Vertica\n",
    "\n",
    "# Step I Create and connect engine for sqlalchemy-vertica-python\n",
    "\n",
    "v_driver = 'vertica+vertica_python'\n",
    "v_host = 'host'\n",
    "db = 'db'\n",
    "v_port = port_number\n",
    "username = 'user'\n",
    "password = 'password'\n",
    "\n",
    "v_engine = '%s://%s:%s@%s:%d/%s'%(v_driver, username, password, v_host, v_port, db)\n",
    "\n",
    "v_conn = sa.create_engine(v_engine)\n",
    "\n",
    "# For vertica-python this is how we can create and connect to engine\n",
    "\n",
    "v_conn_info = {\n",
    "    'host' :'host',\n",
    "    'port' : port_number,\n",
    "    'user' : 'user',\n",
    "    'password' : 'password',\n",
    "    'database' : 'db'\n",
    "}\n",
    "\n",
    "### using vertica_python\n",
    "v_conn2 = vp.connect(**connection_info)\n",
    "\n",
    "\n",
    "\n",
    "# Step II Once engine is created and connected, extract data from existing tables. Use vertica sql\n",
    "\n",
    "### Vertica SQL\n",
    "td_sql_q = '''\n",
    "your vertica sql\n",
    "'''\n",
    "td_df = pd.read_sql(td_sql_q, v_conn)\n",
    "\n",
    "\n",
    "\n",
    "# Step III if you want to upload a csv file (this is done using vertica python which is very similar to )\n",
    "\n",
    "# Step IIIA - from file find out lengths of attribute either given or find out\n",
    "\n",
    "ct = 'CREATE TABLE schema_name.table_name ('\n",
    "\n",
    "for i in range (0,len(l)):\n",
    "    ct = ct + req_fields[i] + ' VARCHAR(' + str(l[i]) + '),'\n",
    "    \n",
    "ct = ct[:-1] + ')'\n",
    " \n",
    "with vconn2.cursor() as cur:\n",
    "    cur.execute(ct)\n",
    "    with open('path', encoding = 'utf-8',\n",
    "              errors = 'ignore', mode = 'r') as file:\n",
    "        csv_file = file.read()\n",
    "        qr = \"COPY schema_name.table_name from STDIN DELIMITER ',' SKIP 1\" \n",
    "        cur.copy(qr, csv_file)\n",
    "        vconn2.commit()\n",
    "        "
   ]
  },
  {
   "cell_type": "code",
   "execution_count": null,
   "metadata": {},
   "outputs": [],
   "source": []
  },
  {
   "cell_type": "code",
   "execution_count": null,
   "metadata": {},
   "outputs": [],
   "source": []
  },
  {
   "cell_type": "code",
   "execution_count": null,
   "metadata": {},
   "outputs": [],
   "source": []
  }
 ],
 "metadata": {
  "kernelspec": {
   "display_name": "Python 3",
   "language": "python",
   "name": "python3"
  },
  "language_info": {
   "codemirror_mode": {
    "name": "ipython",
    "version": 3
   },
   "file_extension": ".py",
   "mimetype": "text/x-python",
   "name": "python",
   "nbconvert_exporter": "python",
   "pygments_lexer": "ipython3",
   "version": "3.7.6"
  }
 },
 "nbformat": 4,
 "nbformat_minor": 4
}
